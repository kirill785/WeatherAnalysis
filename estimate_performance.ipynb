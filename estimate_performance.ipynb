{
 "cells": [
  {
   "cell_type": "code",
   "execution_count": 1,
   "metadata": {},
   "outputs": [],
   "source": [
    "import time\n",
    "import numpy as np\n",
    "import pandas as pd\n",
    "from multiprocessing import Pool\n",
    "from analyze_weather import analyze_temperature"
   ]
  },
  {
   "cell_type": "code",
   "execution_count": 2,
   "metadata": {},
   "outputs": [],
   "source": [
    "def benchmark(func, *args, **kwargs):\n",
    "    start_time = time.time()\n",
    "    result = func(*args, **kwargs)\n",
    "    \n",
    "    end_time = time.time()\n",
    "    print(f\"{func.__name__} выполнено за {end_time - start_time:.2f} секунд\")\n",
    "    return result"
   ]
  },
  {
   "cell_type": "code",
   "execution_count": 3,
   "metadata": {},
   "outputs": [],
   "source": [
    "data = pd.read_csv('temperature_data.csv')\n",
    "data['timestamp'] = pd.to_datetime(data['timestamp'])"
   ]
  },
  {
   "cell_type": "code",
   "execution_count": 4,
   "metadata": {},
   "outputs": [
    {
     "name": "stdout",
     "output_type": "stream",
     "text": [
      "analyze_temperature_sequential выполнено за 0.07 секунд\n"
     ]
    }
   ],
   "source": [
    "def analyze_temperature_sequential(data):\n",
    "    window = 30\n",
    "    cities = data['city'].unique()\n",
    "    stats = []\n",
    "    for city in cities:\n",
    "        stats.append(analyze_temperature(data, city, window))\n",
    "    return stats\n",
    "\n",
    "result = benchmark(analyze_temperature_sequential, data)"
   ]
  },
  {
   "cell_type": "code",
   "execution_count": 5,
   "metadata": {},
   "outputs": [
    {
     "name": "stdout",
     "output_type": "stream",
     "text": [
      "analyze_temperature_multiproc выполнено за 2.14 секунд\n"
     ]
    }
   ],
   "source": [
    "def analyze_temperature_multiproc(data):\n",
    "    window = 30\n",
    "    cities = data['city'].unique()\n",
    "    args = [(data, city, window) for city in cities]\n",
    "    with Pool() as pool:\n",
    "        stats = pool.starmap(analyze_temperature, args)\n",
    "    return stats\n",
    "\n",
    "result = benchmark(analyze_temperature_multiproc, data)"
   ]
  },
  {
   "cell_type": "markdown",
   "metadata": {},
   "source": [
    "multiprocessing.Pool отработал медленнее чем последовательное выполнение. Скорее всего это связано с тем, что вычислительная задача слишком простая, и накладные расходы на управление процессами превышают выигрыш от параллельного выполнения."
   ]
  },
  {
   "cell_type": "code",
   "execution_count": 6,
   "metadata": {},
   "outputs": [],
   "source": [
    "import asyncio\n",
    "import aiohttp\n",
    "import nest_asyncio\n",
    "import requests\n",
    "nest_asyncio.apply()\n",
    "\n",
    "from analyze_weather import get_all_temperatures"
   ]
  },
  {
   "cell_type": "code",
   "execution_count": 7,
   "metadata": {},
   "outputs": [
    {
     "name": "stdout",
     "output_type": "stream",
     "text": [
      "get_all_temperatures_async выполнено за 0.21 секунд\n"
     ]
    }
   ],
   "source": [
    "def get_all_temperatures_async(cities, api_key):\n",
    "    current_temperatures = asyncio.run(get_all_temperatures(cities, api_key))\n",
    "    return current_temperatures\n",
    "\n",
    "cities = data['city'].unique()\n",
    "api_key = '...'\n",
    "result = benchmark(get_all_temperatures_async, cities, api_key)"
   ]
  },
  {
   "cell_type": "code",
   "execution_count": 8,
   "metadata": {},
   "outputs": [
    {
     "name": "stdout",
     "output_type": "stream",
     "text": [
      "get_all_temperatures_sync выполнено за 2.12 секунд\n"
     ]
    }
   ],
   "source": [
    "def get_temperature_sync(city, api_key):\n",
    "    url = f\"https://api.openweathermap.org/data/2.5/weather?q={city}&appid={api_key}&units=metric\"\n",
    "    response = requests.get(url)\n",
    "    data = response.json()\n",
    "    if data['cod'] == 200:\n",
    "        return city, data['main']['temp']\n",
    "    else:\n",
    "        raise ValueError(str(data))\n",
    "\n",
    "\n",
    "def get_all_temperatures_sync(cities, api_key):\n",
    "    results = []\n",
    "    for city in cities:\n",
    "        results.append(get_temperature_sync(city, api_key))\n",
    "    return dict(results)\n",
    "\n",
    "result = benchmark(get_all_temperatures_sync, cities, api_key)"
   ]
  },
  {
   "cell_type": "markdown",
   "metadata": {},
   "source": [
    "Асинхронное выполнение запросов к API отработало быстрее, чем синхронное."
   ]
  }
 ],
 "metadata": {
  "kernelspec": {
   "display_name": "openlrm",
   "language": "python",
   "name": "python3"
  },
  "language_info": {
   "codemirror_mode": {
    "name": "ipython",
    "version": 3
   },
   "file_extension": ".py",
   "mimetype": "text/x-python",
   "name": "python",
   "nbconvert_exporter": "python",
   "pygments_lexer": "ipython3",
   "version": "3.11.11"
  }
 },
 "nbformat": 4,
 "nbformat_minor": 2
}
